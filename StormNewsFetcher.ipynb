{
  "nbformat": 4,
  "nbformat_minor": 0,
  "metadata": {
    "colab": {
      "provenance": [],
      "authorship_tag": "ABX9TyOkJEQ9baMObxiCAqNmT+L6",
      "include_colab_link": true
    },
    "kernelspec": {
      "name": "python3",
      "display_name": "Python 3"
    },
    "language_info": {
      "name": "python"
    }
  },
  "cells": [
    {
      "cell_type": "markdown",
      "metadata": {
        "id": "view-in-github",
        "colab_type": "text"
      },
      "source": [
        "<a href=\"https://colab.research.google.com/github/fattie0926/StormNewsFetcher/blob/main/StormNewsFetcher.ipynb\" target=\"_parent\"><img src=\"https://colab.research.google.com/assets/colab-badge.svg\" alt=\"Open In Colab\"/></a>"
      ]
    },
    {
      "cell_type": "markdown",
      "source": [
        "# StormNewsFetcher 使用說明\n",
        "Developer：[fattie0926](https://github.com/fattie0926)\n",
        "\n",
        "## 簡介\n",
        "StormNewsFetcher 是一款運用 Python 和 BeautifulSoup 開發的新聞抓取工具，專門用於自動從[風傳媒](https://www.storm.mg/)網站抓取最新新聞。此工具通過解析網站的 HTML 結構來獲取新聞內容，並支援將內容透過 IFTTT 發送到 LINE 或其他平台。\n",
        "\n",
        "## 功能\n",
        "- **新聞抓取**：從風傳媒網站抓取最新新聞標題、內容及圖片。\n",
        "- **字數限制**：提供選項限制新聞內容的字數，以適應不同平台的顯示需求。\n",
        "- **自動發布**：透過 IFTTT Webhooks 功能，自動將新聞內容發送到 LINE 等平台。\n",
        "\n",
        "## 原理\n",
        "- 利用 `requests` 和 `BeautifulSoup` 對風傳媒網站進行 HTTP 請求和 HTML 內容解析。\n",
        "- 提取所需的新聞元素，如標題、內文和圖片連結。\n",
        "- 透過 IFTTT 的 Webhooks 服務，將新聞內容推送到指定的平台，如 LINE。\n",
        "\n",
        "## 使用方式\n",
        "1. 設定 IFTTT 的事件名稱和 Webhooks 密鑰。\n",
        "2. 運行提供的 Python 函數來抓取風傳媒的最新新聞。\n",
        "3. 使用 `send_to_IFTTT` 函數將抓取的內容發送到您的 LINE 或其他支援 IFTTT 的平台。\n",
        "\n",
        "## 致謝\n",
        "特別感謝所有使用和支持此項目的朋友們。如有任何建議或問題，歡迎提出。"
      ],
      "metadata": {
        "id": "BVgdRHO-Nt6f"
      }
    },
    {
      "cell_type": "markdown",
      "source": [
        "---\n",
        "# 原始碼\n",
        "- 匯入所需的函式庫"
      ],
      "metadata": {
        "id": "U_ysMV6QOICQ"
      }
    },
    {
      "cell_type": "code",
      "source": [
        "from bs4 import BeautifulSoup\n",
        "import requests\n",
        "from datetime import datetime"
      ],
      "metadata": {
        "id": "snYmMwH_LOpm"
      },
      "execution_count": null,
      "outputs": []
    },
    {
      "cell_type": "markdown",
      "source": [
        "- 在[這裡](https://ifttt.com/maker_webhooks/settings)找到你的 Webhooks Key（URL 的最後一串亂碼）"
      ],
      "metadata": {
        "id": "zIdV6xgbK00_"
      }
    },
    {
      "cell_type": "code",
      "source": [
        "# IFTTT 設定\n",
        "EVENT_NAME = 'enter_your_event_name'  # 在 IFTTT 中創建的 Event Name\n",
        "YOUR_IFTTT_KEY = 'enter_your_key' # 修改為你的 Webhooks Key\n",
        "\n",
        "IFTTT_WEBHOOKS_URL = f'https://maker.ifttt.com/trigger/{EVENT_NAME}/with/key/{YOUR_IFTTT_KEY}'"
      ],
      "metadata": {
        "id": "w7AQyK00gpiB"
      },
      "execution_count": null,
      "outputs": []
    },
    {
      "cell_type": "markdown",
      "source": [
        "- 設定好各個需要用到的 Function"
      ],
      "metadata": {
        "id": "pJRCKiF6guht"
      }
    },
    {
      "cell_type": "code",
      "source": [
        "def fetch_content(url, word_limit=True, print_content=True):\n",
        "    \"\"\"\n",
        "    輸入連結後，回傳新聞內容：標題+時間、文章內容、第一張圖片\n",
        "    \"\"\"\n",
        "    response = requests.get(url)\n",
        "    soup = BeautifulSoup(response.content, 'html.parser')\n",
        "\n",
        "    title = soup.find(\"title\").text[:-4]  # 獲取文章標題\n",
        "    publish_time = soup.find(\"meta\", itemprop=\"datePublished\")['content']  # 獲取發佈時間\n",
        "    if print_content: # 在 Console 中列印文章標題\n",
        "        print(title)\n",
        "\n",
        "    # 格式化發佈時間\n",
        "    published_datetime = datetime.fromisoformat(publish_time)\n",
        "    formatted_publish_time = published_datetime.strftime(\"%Y/%m/%d, %H:%M\")\n",
        "    title += \"\\n\" + formatted_publish_time\n",
        "\n",
        "    # 檢查是否有找到圖片網址\n",
        "    image_link = soup.find(\"link\", rel=\"image_src\")\n",
        "    image_url = image_link['href'] if image_link else '無圖片網址'\n",
        "\n",
        "    # 擷取文章內容\n",
        "    article = soup.find('article')\n",
        "    article_content = ''\n",
        "    if article:\n",
        "        paragraphs = article.find_all('p', aid=True)\n",
        "        for p in paragraphs:\n",
        "            article_content += p.get_text(strip=True) + '\\n\\n'\n",
        "\n",
        "    # 根據 word_limit 限制字數\n",
        "    if word_limit and len(article_content) > 300:\n",
        "        article_content = article_content[:300] + '⋯⋯\\n\\n點擊連結閱讀完整文章：'\n",
        "\n",
        "    # 加上原文連結\n",
        "    article_content += '\\n' + url\n",
        "\n",
        "    return {'title': title, 'article_content': article_content, 'image_url': image_url}\n",
        "\n",
        "def fetch_latest_news_urls(n, homepage_url=\"https://www.storm.mg/\"):\n",
        "    \"\"\"\n",
        "    在網站上獲取最新的 n 篇新聞（最多七篇），並將網址以列表形式回傳\n",
        "    \"\"\"\n",
        "    n = max(1, min(n, 7))  # 確保 n 在 1 到 7 之間\n",
        "\n",
        "    response = requests.get(homepage_url)\n",
        "    soup = BeautifulSoup(response.content, 'html.parser')\n",
        "\n",
        "    start_index = soup.decode_contents().find('<!-- for cards: card_noImg -->')\n",
        "    end_index = soup.decode_contents().find('<!-- end of cards -->', start_index)\n",
        "    cards_html = soup.decode_contents()[start_index:end_index]\n",
        "\n",
        "    cards_soup = BeautifulSoup(cards_html, 'html.parser')\n",
        "    card_links = cards_soup.find_all('a', class_='card_link link_title', href=True)\n",
        "\n",
        "    return ['https://www.storm.mg' + a['href'] for a in card_links][:n]\n",
        "\n",
        "def send_to_IFTTT(data, webhook_url=IFTTT_WEBHOOKS_URL, event_name=EVENT_NAME, key=YOUR_IFTTT_KEY):\n",
        "    \"\"\"\n",
        "    輸入內容後，透過 Webhook 傳送至 IFTTT\n",
        "    \"\"\"\n",
        "    data_to_send = {\n",
        "        'value1': data['title'],\n",
        "        'value2': data['article_content'].strip(),\n",
        "        'value3': data['image_url']\n",
        "    }\n",
        "\n",
        "    requests.post(webhook_url.format(event=event_name, your_key=key), json=data_to_send)"
      ],
      "metadata": {
        "id": "fZr21Sh_SpeI"
      },
      "execution_count": 68,
      "outputs": []
    },
    {
      "cell_type": "markdown",
      "source": [
        "# 使用範例\n",
        "## 範例 1：取得單篇新聞內容，並傳送訊息到 LINE"
      ],
      "metadata": {
        "id": "NfJq3ES_hBOj"
      }
    },
    {
      "cell_type": "code",
      "source": [
        "url = \"https://www.storm.mg/lifestyle/4912747\"  # 修改為你想要的新聞連結\n",
        "\n",
        "content_data = fetch_content(url, word_limit=True)\n",
        "send_to_IFTTT(content_data)"
      ],
      "metadata": {
        "id": "VRxCQ1rMSvis",
        "colab": {
          "base_uri": "https://localhost:8080/"
        },
        "outputId": "0aa835e8-791d-41fc-e5a3-ee0c0723ea17"
      },
      "execution_count": 69,
      "outputs": [
        {
          "output_type": "stream",
          "name": "stdout",
          "text": [
            "獨》福源花生醬風波！香港消委會駁「拿過期的來驗」　業者疑「政治操作」：只相信台灣\n"
          ]
        }
      ]
    },
    {
      "cell_type": "markdown",
      "source": [
        "## 範例 2：從風傳媒官網抓取最新的 n 篇新聞，並傳送到 LINE"
      ],
      "metadata": {
        "id": "tD7oKypbhHF5"
      }
    },
    {
      "cell_type": "code",
      "source": [
        "n = 3  # 指定抓取的新聞數量\n",
        "\n",
        "for url in fetch_latest_news_urls(n):\n",
        "    content = fetch_content(url, word_limit=True)\n",
        "    send_to_IFTTT(content)"
      ],
      "metadata": {
        "id": "OitIDpnVZ2GS",
        "colab": {
          "base_uri": "https://localhost:8080/"
        },
        "outputId": "e279d215-0c32-4bdc-e947-85444cb07cf6"
      },
      "execution_count": null,
      "outputs": [
        {
          "output_type": "stream",
          "name": "stdout",
          "text": [
            "舊金山拜習會》與拜登見面已達目的　習近平可專注迫切內政問題\n",
            "以色列國防軍宣稱「在加薩醫院發現哈瑪斯隧道」\n",
            "離岸風電區塊3-2期選商新規定　想拿額外100MW得先拿到購售電合約\n"
          ]
        }
      ]
    }
  ]
}